{
 "cells": [
  {
   "cell_type": "code",
   "execution_count": 1,
   "metadata": {},
   "outputs": [],
   "source": [
    "import torch\n",
    "import numpy\n",
    "import numpy as np\n",
    "import pandas as pd\n",
    "import json\n",
    "\n",
    "from src.model import build_model\n",
    "from src.utils import convert_tensor, evaluate_model"
   ]
  },
  {
   "cell_type": "code",
   "execution_count": 2,
   "metadata": {},
   "outputs": [],
   "source": [
    "import numpy\n",
    "tt = numpy.zeros((94129, 3194))\n",
    "tt = tt.astype(np.float32)\n",
    "tt = torch.from_numpy(tt)"
   ]
  },
  {
   "cell_type": "code",
   "execution_count": 3,
   "metadata": {
    "scrolled": true
   },
   "outputs": [],
   "source": [
    "with open('./data/hyperparameter.json') as fp:\n",
    "    hparam = json.load(fp)"
   ]
  },
  {
   "cell_type": "code",
   "execution_count": 4,
   "metadata": {
    "scrolled": true
   },
   "outputs": [],
   "source": [
    "test_data = pd.read_pickle('./savepoints/0/test_data.pkl')\n",
    "x = test_data[0]\n",
    "y = test_data[1]"
   ]
  },
  {
   "cell_type": "code",
   "execution_count": 5,
   "metadata": {},
   "outputs": [],
   "source": [
    "SS_mat = pd.read_pickle('./data/structural_similarity_matrix.pkl')\n",
    "TS_mat = pd.read_pickle('./data/target_similarity_matrix.pkl')\n",
    "GS_mat = pd.read_pickle('./data/GO_similarity_matrix.pkl')"
   ]
  },
  {
   "cell_type": "code",
   "execution_count": 6,
   "metadata": {},
   "outputs": [],
   "source": [
    "mlb = pd.read_pickle('./data/mlb.pkl')\n",
    "idx2label = pd.read_pickle('./data/idx2label.pkl')"
   ]
  },
  {
   "cell_type": "code",
   "execution_count": 7,
   "metadata": {},
   "outputs": [],
   "source": [
    "SS, TS, GS, y = convert_tensor(x, y, SS_mat, TS_mat, GS_mat, mlb, idx2label)\n",
    "y = y.int().numpy()"
   ]
  },
  {
   "cell_type": "code",
   "execution_count": 9,
   "metadata": {
    "scrolled": true
   },
   "outputs": [
    {
     "data": {
      "text/plain": [
       "build_model(\n",
       "  (encoder1): Sequential(\n",
       "    (0): Linear(in_features=3194, out_features=1000, bias=True)\n",
       "    (1): BatchNorm1d(1000, eps=1e-05, momentum=0.1, affine=True, track_running_stats=True)\n",
       "    (2): Dropout(p=0.3, inplace=True)\n",
       "    (3): ReLU(inplace=True)\n",
       "    (4): Linear(in_features=1000, out_features=200, bias=True)\n",
       "    (5): BatchNorm1d(200, eps=1e-05, momentum=0.1, affine=True, track_running_stats=True)\n",
       "    (6): Dropout(p=0.3, inplace=True)\n",
       "    (7): ReLU(inplace=True)\n",
       "  )\n",
       "  (decoder1): Sequential(\n",
       "    (0): Linear(in_features=200, out_features=1000, bias=True)\n",
       "    (1): BatchNorm1d(1000, eps=1e-05, momentum=0.1, affine=True, track_running_stats=True)\n",
       "    (2): ReLU(inplace=True)\n",
       "    (3): Linear(in_features=1000, out_features=3194, bias=True)\n",
       "    (4): Sigmoid()\n",
       "  )\n",
       "  (encoder2): Sequential(\n",
       "    (0): Linear(in_features=3194, out_features=1000, bias=True)\n",
       "    (1): BatchNorm1d(1000, eps=1e-05, momentum=0.1, affine=True, track_running_stats=True)\n",
       "    (2): Dropout(p=0.3, inplace=True)\n",
       "    (3): ReLU(inplace=True)\n",
       "    (4): Linear(in_features=1000, out_features=200, bias=True)\n",
       "    (5): BatchNorm1d(200, eps=1e-05, momentum=0.1, affine=True, track_running_stats=True)\n",
       "    (6): Dropout(p=0.3, inplace=True)\n",
       "    (7): ReLU(inplace=True)\n",
       "  )\n",
       "  (decoder2): Sequential(\n",
       "    (0): Linear(in_features=200, out_features=1000, bias=True)\n",
       "    (1): BatchNorm1d(1000, eps=1e-05, momentum=0.1, affine=True, track_running_stats=True)\n",
       "    (2): ReLU(inplace=True)\n",
       "    (3): Linear(in_features=1000, out_features=3194, bias=True)\n",
       "    (4): Sigmoid()\n",
       "  )\n",
       "  (encoder3): Sequential(\n",
       "    (0): Linear(in_features=3194, out_features=1000, bias=True)\n",
       "    (1): BatchNorm1d(1000, eps=1e-05, momentum=0.1, affine=True, track_running_stats=True)\n",
       "    (2): Dropout(p=0.3, inplace=True)\n",
       "    (3): ReLU(inplace=True)\n",
       "    (4): Linear(in_features=1000, out_features=200, bias=True)\n",
       "    (5): BatchNorm1d(200, eps=1e-05, momentum=0.1, affine=True, track_running_stats=True)\n",
       "    (6): Dropout(p=0.3, inplace=True)\n",
       "    (7): ReLU(inplace=True)\n",
       "  )\n",
       "  (decoder3): Sequential(\n",
       "    (0): Linear(in_features=200, out_features=1000, bias=True)\n",
       "    (1): BatchNorm1d(1000, eps=1e-05, momentum=0.1, affine=True, track_running_stats=True)\n",
       "    (2): ReLU(inplace=True)\n",
       "    (3): Linear(in_features=1000, out_features=3194, bias=True)\n",
       "    (4): Sigmoid()\n",
       "  )\n",
       "  (AE_criterion): MSELoss()\n",
       "  (DNN): Sequential(\n",
       "    (0): Linear(in_features=600, out_features=2000, bias=True)\n",
       "    (1): BatchNorm1d(2000, eps=1e-05, momentum=0.1, affine=True, track_running_stats=True)\n",
       "    (2): Dropout(p=0.3, inplace=True)\n",
       "    (3): ReLU(inplace=True)\n",
       "    (4): Linear(in_features=2000, out_features=2000, bias=True)\n",
       "    (5): BatchNorm1d(2000, eps=1e-05, momentum=0.1, affine=True, track_running_stats=True)\n",
       "    (6): Dropout(p=0.3, inplace=True)\n",
       "    (7): ReLU(inplace=True)\n",
       "    (8): Linear(in_features=2000, out_features=2000, bias=True)\n",
       "    (9): BatchNorm1d(2000, eps=1e-05, momentum=0.1, affine=True, track_running_stats=True)\n",
       "    (10): Dropout(p=0.3, inplace=True)\n",
       "    (11): ReLU(inplace=True)\n",
       "    (12): Linear(in_features=2000, out_features=2000, bias=True)\n",
       "    (13): BatchNorm1d(2000, eps=1e-05, momentum=0.1, affine=True, track_running_stats=True)\n",
       "    (14): Dropout(p=0.3, inplace=True)\n",
       "    (15): ReLU(inplace=True)\n",
       "    (16): Linear(in_features=2000, out_features=2000, bias=True)\n",
       "    (17): BatchNorm1d(2000, eps=1e-05, momentum=0.1, affine=True, track_running_stats=True)\n",
       "    (18): Dropout(p=0.3, inplace=True)\n",
       "    (19): ReLU(inplace=True)\n",
       "    (20): Linear(in_features=2000, out_features=2000, bias=True)\n",
       "    (21): BatchNorm1d(2000, eps=1e-05, momentum=0.1, affine=True, track_running_stats=True)\n",
       "    (22): Dropout(p=0.3, inplace=True)\n",
       "    (23): ReLU(inplace=True)\n",
       "    (24): Linear(in_features=2000, out_features=2000, bias=True)\n",
       "    (25): BatchNorm1d(2000, eps=1e-05, momentum=0.1, affine=True, track_running_stats=True)\n",
       "    (26): Dropout(p=0.3, inplace=True)\n",
       "    (27): ReLU(inplace=True)\n",
       "    (28): Linear(in_features=2000, out_features=106, bias=True)\n",
       "  )\n",
       "  (DNN_criterion): BCEWithLogitsLoss()\n",
       ")"
      ]
     },
     "execution_count": 9,
     "metadata": {},
     "output_type": "execute_result"
    }
   ],
   "source": [
    "model = build_model(hparam)\n",
    "model.load_model('./savepoints/0/model_checkpoint')\n",
    "model.eval()"
   ]
  },
  {
   "cell_type": "code",
   "execution_count": 10,
   "metadata": {},
   "outputs": [],
   "source": [
    "with torch.no_grad():\n",
    "    _, _, _, pred = model(SS, TS, GS)\n",
    "    pred = torch.sigmoid(pred) > 0.5    \n",
    "    pred = pred.int().numpy()"
   ]
  },
  {
   "cell_type": "code",
   "execution_count": 11,
   "metadata": {},
   "outputs": [],
   "source": [
    "acc, ma_rc, ma_pc, mi_rc, mi_pc = evaluate_model(y, pred)"
   ]
  },
  {
   "cell_type": "code",
   "execution_count": 12,
   "metadata": {
    "scrolled": false
   },
   "outputs": [
    {
     "name": "stdout",
     "output_type": "stream",
     "text": [
      "Accuracy: 0.9894187763601016\n",
      "Macro recall: 0.9894594683940743\n",
      "Macro_precision: 0.9815660016498825\n",
      "Micro_recall: 0.9912265812310369\n",
      "Micro_precision: 0.990218105513046\n"
     ]
    }
   ],
   "source": [
    "print(f'Accuracy: {acc}\\nMacro recall: {ma_rc}\\nMacro_precision: {ma_pc}\\nMicro_recall: {mi_rc}\\nMicro_precision: {mi_pc}')"
   ]
  },
  {
   "cell_type": "code",
   "execution_count": null,
   "metadata": {},
   "outputs": [],
   "source": []
  }
 ],
 "metadata": {
  "kernelspec": {
   "display_name": "biomed",
   "language": "python",
   "name": "biomed"
  },
  "language_info": {
   "codemirror_mode": {
    "name": "ipython",
    "version": 3
   },
   "file_extension": ".py",
   "mimetype": "text/x-python",
   "name": "python",
   "nbconvert_exporter": "python",
   "pygments_lexer": "ipython3",
   "version": "3.6.8"
  }
 },
 "nbformat": 4,
 "nbformat_minor": 2
}

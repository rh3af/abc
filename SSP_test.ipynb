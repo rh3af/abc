{
 "cells": [
  {
   "cell_type": "code",
   "execution_count": 8,
   "metadata": {},
   "outputs": [],
   "source": [
    "import pandas as pd\n",
    "from openbabel import pybel"
   ]
  },
  {
   "cell_type": "code",
   "execution_count": 9,
   "metadata": {},
   "outputs": [],
   "source": [
    "drugName2smiles = pd.read_pickle('./data/example.pkl')"
   ]
  },
  {
   "cell_type": "code",
   "execution_count": 25,
   "metadata": {},
   "outputs": [
    {
     "name": "stdout",
     "output_type": "stream",
     "text": [
      "{'Nylidrin': 'CC(CCC1=CC=CC=C1)NC(C)C(O)C1=CC=C(O)C=C1',\n",
      " 'Panobinostat': '[H]\\\\C(=C(\\\\[H])C1=CC=C(CNCCC2=C(C)NC3=CC=CC=C23)C=C1)C(O)=NO',\n",
      " 'Pyridostigmine': 'CN(C)C(=O)OC1=C[N+](C)=CC=C1',\n",
      " 'Sorafenib': 'CNC(=O)C1=NC=CC(OC2=CC=C(NC(=O)NC3=CC(=C(Cl)C=C3)C(F)(F)F)C=C2)=C1',\n",
      " 'Tofacitinib': '[H][C@@]1(C)CCN(C[C@]1([H])N(C)C1=NC=NC2=C1C=CN2)C(=O)CC#N'}\n"
     ]
    }
   ],
   "source": [
    "import pandas as pd\n",
    "obj = pd.read_pickle(r'./data/example.pkl')\n",
    "\n",
    "pprint.pprint(obj)"
   ]
  },
  {
   "cell_type": "code",
   "execution_count": 14,
   "metadata": {},
   "outputs": [],
   "source": [
    "drugName2fp = {}\n",
    "for drug, smiles in drugName2smiles.items():\n",
    "    mol = pybel.readstring('smi', smiles)\n",
    "    fp = mol.calcfp() # convert SMILES to fingerprint\n",
    "    drugName2fp[drug] = fp"
   ]
  },
  {
   "cell_type": "code",
   "execution_count": 23,
   "metadata": {},
   "outputs": [
    {
     "name": "stdout",
     "output_type": "stream",
     "text": [
      "{'Nylidrin': <openbabel.pybel.Fingerprint object at 0x000001288DE0ABE0>,\n",
      " 'Panobinostat': <openbabel.pybel.Fingerprint object at 0x000001288DE0AA20>,\n",
      " 'Pyridostigmine': <openbabel.pybel.Fingerprint object at 0x000001288DE0AB00>,\n",
      " 'Sorafenib': <openbabel.pybel.Fingerprint object at 0x000001288DE0A9B0>,\n",
      " 'Tofacitinib': <openbabel.pybel.Fingerprint object at 0x000001288DE0AA90>}\n"
     ]
    }
   ],
   "source": [
    "import pprint\n",
    "pprint.pprint(drugName2fp)"
   ]
  },
  {
   "cell_type": "code",
   "execution_count": 4,
   "metadata": {},
   "outputs": [],
   "source": [
    "all_drugs = list(drugName2smiles.keys())\n",
    "drugPair2SS = {}\n",
    "for i, drug1 in enumerate(all_drugs):\n",
    "    for drug2 in all_drugs[i:]:\n",
    "        fp1 = drugName2fp[drug1]\n",
    "        fp2 = drugName2fp[drug2]        \n",
    "        sim = fp1 | fp2 # calculate tanimoto coefficient\n",
    "        drugPair2SS[(drug1, drug2)] = sim\n",
    "        drugPair2SS[(drug2, drug1)] = sim"
   ]
  },
  {
   "cell_type": "code",
   "execution_count": 5,
   "metadata": {},
   "outputs": [
    {
     "name": "stdout",
     "output_type": "stream",
     "text": [
      "{('Panobinostat', 'Panobinostat'): 1.0, ('Panobinostat', 'Sorafenib'): 0.26373626373626374, ('Sorafenib', 'Panobinostat'): 0.26373626373626374, ('Panobinostat', 'Pyridostigmine'): 0.16556291390728478, ('Pyridostigmine', 'Panobinostat'): 0.16556291390728478, ('Panobinostat', 'Tofacitinib'): 0.18681318681318682, ('Tofacitinib', 'Panobinostat'): 0.18681318681318682, ('Panobinostat', 'Nylidrin'): 0.2740740740740741, ('Nylidrin', 'Panobinostat'): 0.2740740740740741, ('Sorafenib', 'Sorafenib'): 1.0, ('Sorafenib', 'Pyridostigmine'): 0.24, ('Pyridostigmine', 'Sorafenib'): 0.24, ('Sorafenib', 'Tofacitinib'): 0.18324607329842932, ('Tofacitinib', 'Sorafenib'): 0.18324607329842932, ('Sorafenib', 'Nylidrin'): 0.16666666666666666, ('Nylidrin', 'Sorafenib'): 0.16666666666666666, ('Pyridostigmine', 'Pyridostigmine'): 1.0, ('Pyridostigmine', 'Tofacitinib'): 0.17006802721088435, ('Tofacitinib', 'Pyridostigmine'): 0.17006802721088435, ('Pyridostigmine', 'Nylidrin'): 0.13274336283185842, ('Nylidrin', 'Pyridostigmine'): 0.13274336283185842, ('Tofacitinib', 'Tofacitinib'): 1.0, ('Tofacitinib', 'Nylidrin'): 0.19148936170212766, ('Nylidrin', 'Tofacitinib'): 0.19148936170212766, ('Nylidrin', 'Nylidrin'): 1.0}\n",
      "\n"
     ]
    }
   ],
   "source": [
    "a = str(drugPair2SS)\n",
    "print(a+'\\n')"
   ]
  },
  {
   "cell_type": "code",
   "execution_count": 6,
   "metadata": {},
   "outputs": [
    {
     "name": "stdout",
     "output_type": "stream",
     "text": [
      "['Panobinostat', 'Sorafenib', 'Pyridostigmine', 'Tofacitinib', 'Nylidrin']\n"
     ]
    }
   ],
   "source": [
    "print(all_drugs)"
   ]
  },
  {
   "cell_type": "code",
   "execution_count": null,
   "metadata": {},
   "outputs": [],
   "source": []
  },
  {
   "cell_type": "code",
   "execution_count": null,
   "metadata": {},
   "outputs": [],
   "source": []
  }
 ],
 "metadata": {
  "kernelspec": {
   "display_name": "biomed",
   "language": "python",
   "name": "biomed"
  },
  "language_info": {
   "codemirror_mode": {
    "name": "ipython",
    "version": 3
   },
   "file_extension": ".py",
   "mimetype": "text/x-python",
   "name": "python",
   "nbconvert_exporter": "python",
   "pygments_lexer": "ipython3",
   "version": "3.6.8"
  }
 },
 "nbformat": 4,
 "nbformat_minor": 4
}
